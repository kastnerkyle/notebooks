{
 "metadata": {
  "name": ""
 },
 "nbformat": 3,
 "nbformat_minor": 0,
 "worksheets": [
  {
   "cells": [
    {
     "cell_type": "markdown",
     "metadata": {},
     "source": [
      "This blog will document the steps taken in converting a Hubsan X4 RC Quadcopter from analog control, to full control over wifi. Inspired by, and using many of the same steps as [this blog.](http://www.instructables.com/id/Easy-Android-controllable-PC-Interfaceable-Relati/) Steps taken are:\n",
      "\n",
      "1. Replace the RC controller with a laptop + Arduino combination, using an A7105 transceiver chip to interact with the copter.\n",
      "2. Replace the Arduino from the previous step with a hacked wifi SD card which interfaces an A7105 transceiver chip.\n",
      "3. Add code to the wifi SD card, so that the copter can be controlled in real time via wifi commands.\n",
      "4. Mount the wifi SD card on the quadopter itself, and control the whole mechanism by sending commands over wifi.\n",
      "5. Add support for automatic pathing.\n",
      "\n",
      "Parts List\n",
      "==========\n",
      "* [Hubsan X4 Quadcopter](http://www.amazon.com/Hubsan-H107-Micro-Copter-2-4GHZ/dp/B009M1PO7W)\n",
      "* [Arduino Due](http://www.amazon.com/Arduino-Duemilanove-Board/dp/B004A7L3NC/ref=sr_1_sc_1?ie=UTF8&qid=1388899339&sr=8-1-spell&keywords=duemalinove)\n",
      "* [A7105 Transceiver Chips](http://www.aliexpress.com/snapshot/310302301.html)\n",
      "* [Trancend Wifi SD Card](http://www.amazon.com/Transcend-Wi-Fi-Class-Memory-TS16GWSDHC10/dp/B00A659IJI/ref=sr_1_2?ie=UTF8&qid=1388899433&sr=8-2&keywords=transcend+wifi+sd)\n",
      "* [Micro SD to SD converter](http://usd.dx.com/product/sd-to-microsd-transflash-card-converter-module-901027001#.UsbQEGeMCW8)"
     ]
    },
    {
     "cell_type": "markdown",
     "metadata": {},
     "source": [
      "Setting up the Arduino\n",
      "======================\n",
      "\n",
      "To install the executables necessary to compile for the Arduino, run the following command:\n",
      "\n",
      "__sudo apt-get install arduino-mk__\n",
      "\n",
      "Make sure to add _/usr/share/arduino_ to the __$PATH__, as it is required in order to use __ard-parse-boards__. All code for the quadcopter and Arduino testing lives in my [github repo](https://github.com/kastnerkyle/arduino-sketches). I prefer to use the commandline to compile and load the code, so there may be some code differences if you plan to use the GUI.\n",
      "\n",
      "To test the Arduino setup, we will compile a small file named _blink.ino_ and push it to the board. We also need to create a _Makefile_, so that the code can be compiled. If successful, we will be able to change the rate that an LED blinks on the boards. An important note - though the Arduino files end with .ino, they are really just C++ code. \n",
      "\n",
      "A note on the __Makefile__ - it includes another makefile named Arduino.mk, which can be considered the \"parent\" file. Depending on your system setup, the line\n",
      "\n",
      "_include ../Arduino.mk_\n",
      "\n",
      "may need to be changed to \n",
      "\n",
      "_include /usr/share/arduino/Arduino.mk_\n",
      "\n",
      "To find out which USB device my Arduino was connected to in order to set _ARDUINO_PORT_, I watched the output of __dmesg__ while plugging in my device, using __dmesg | less__ , then hitting _SHIFT+F_ to go into follow mode. In my case, this was __/dev/ttyUSB0__."
     ]
    },
    {
     "cell_type": "markdown",
     "metadata": {},
     "source": [
      "blink.ino\n",
      "---------\n",
      "\n"
     ]
    },
    {
     "cell_type": "raw",
     "metadata": {},
     "source": [
      "// Blink\n",
      "\n",
      "void setup(void) {\n",
      "  pinMode(13, OUTPUT);\n",
      "}\n",
      "\n",
      "void loop() {\n",
      "  digitalWrite(13, LOW);\n",
      "  delay(1000);\n",
      "  digitalWrite(13, HIGH);\n",
      "  delay(1000);\n",
      "}\n",
      "\n",
      "int main() {\n",
      "    init();\n",
      "    setup();\n",
      "    while(true) {\n",
      "        loop();\n",
      "    }\n",
      "}"
     ]
    },
    {
     "cell_type": "markdown",
     "metadata": {},
     "source": [
      "Makefile\n",
      "--------"
     ]
    },
    {
     "cell_type": "raw",
     "metadata": {},
     "source": [
      "BOARD_TAG = atmega328\n",
      "ARDUINO_PORT = /dev/ttyUSB0\n",
      "ARDUINO_LIBS = \n",
      "ARDUINO_DIR = /usr/share/arduino\n",
      "include ../Arduino.mk"
     ]
    },
    {
     "cell_type": "markdown",
     "metadata": {},
     "source": [
      "Someone familiar with Arduino code may be wondering what _int main()_ is doing - since the GUI automagically creates this loop, it is not usually necessary to code it explicitly. However, because I am compling and uploading from the command-line, it is necessary to add this loop in.\n",
      "\n",
      "Once everything is ready, simply type _make_. This will compile the code. To upload to the attached arduino device, simply type\n",
      "\n",
      "_sudo make upload_\n",
      "\n",
      "sudo is necessary due to the permissions settings for _/dev/ttyUSB0_ - you could easily change this with __sudo chmod 666 /dev/ttyUSB0__"
     ]
    },
    {
     "cell_type": "markdown",
     "metadata": {},
     "source": [
      "Soldering the A7105 Trasceiver Chip\n",
      "===================================\n",
      "\n"
     ]
    },
    {
     "cell_type": "markdown",
     "metadata": {},
     "source": [
      "Arduino to A7105 Pin Mapping\n",
      "============================"
     ]
    },
    {
     "cell_type": "markdown",
     "metadata": {},
     "source": [
      "Image of Arduino + A7105 setup\n",
      "=============================="
     ]
    },
    {
     "cell_type": "markdown",
     "metadata": {},
     "source": [
      "Our final code will use an offshoot of the [Deviation project](https://github.com/tudelft/deviation), which has reverse engineered the packet structure for the Hubsan.  The code can be found [here](https://github.com/kastnerkyle/arduino-sketches/tree/master/sketchbook/quad) - it should compile and upload just like the previous example code. Once compiled and uploaded, we should be able to control the copter via the Arduino."
     ]
    },
    {
     "cell_type": "markdown",
     "metadata": {},
     "source": [
      "Setting up the Transcend Wifi SD Card\n",
      "=====================================\n",
      "\n",
      "This work is based on 3 key links from Hack-A-Day about hacking the Trascend WiFi SD Card: [1](http://hackaday.com/2013/08/12/hacking-transcend-wifi-sd-cards/), [2](http://hackaday.com/2013/09/19/advanced-transcend-wifi-sd-hacking-custom-kernels-x-and-firefox/), [3](http://hackaday.com/2013/10/09/a-motherboard-for-a-wifi-enabled-sd-card/). Based on these posts, specifically [2](http://hackaday.com/2013/09/19/advanced-transcend-wifi-sd-hacking-custom-kernels-x-and-firefox/), we want to take the \"next step\", using one of these SD cards as a mobile brain for controlling the quadcopter, so that we do not require constant radio contact. Rather, we would prefer to control the quadcopter over wifi, either using direct controls with a stable fallback (i.e. hold position) on failed radio communication, or simple directional commands like \"GO UP 10ft, GO LEFT 20ft, HOLD\". While this is currently a long ways off, each step in this blog is an attempt at getting closer to this overarching goal.\n",
      "\n",
      "The first step was making modifications to the boot ramdisk. Thanks to Dmitry's work, this is pretty straightforward.\n",
      "\n",
      "I have hosted a github repo with the complete code that will upload to a Transcend SD card and (hopefully) act as a  wifi brain. "
     ]
    },
    {
     "cell_type": "markdown",
     "metadata": {},
     "source": [
      "Step 1: Modifications\n",
      "---------------------\n",
      "To make initial modifications to the ramdisk, clone [my github repo](https://github.com/kastnerkyle/quadcopter-brain), cd to transcend/core/ and run __unpack_ramdisk.sh__. This will create a folder named unpacked - in here is all the goodies that the card will boot with once it is flashed.\n",
      "\n",
      "His root password by default is (thanks [CNLohr](https://cnlohr.net/pubsvn/electrical/SDComputer/readme.txt)):\n",
      "_dmitry.gr_WiFiSD_\n",
      "\n",
      "Modifications I made:\n",
      "\n",
      "* Changed root password to _toor_ following [this example with openssl](http://linux-training.be/files/books/html/fun/ch23s03.html)\n",
      "* Replaced existing busybox with a more fully featured version with things like vi, etc. Compiled from source with my choice of applets - see below instructions for details\n",
      "\n",
      "After these modifications were complete, running __repack_ramdisk.sh__ will create a new version of _initramfs3.gz_ with all these changes."
     ]
    },
    {
     "cell_type": "markdown",
     "metadata": {},
     "source": [
      "Step 2: Upload\n",
      "--------------\n",
      "\n",
      "The next question is - how do we get these files to the card? There are 4 key files: _image3_, _initramfs3.gz_, _mtd_jffs2.bin_ and _program.bin_. NOTE: These names should not be changed! Change the filenames at your own peril. \n",
      "\n",
      "The way these interact is covered on Dmitry's blog, but the gist of it is that _program.bin_ is uboot, which then launches _image3_ as the kernel and uses _initramfs3.gz_ as the ramdisk on boot. By unpacking, then repacking the ramdisk, we make modifications to the booted operating system.\n",
      "\n",
      "Once the card is plugged in, I once again watch the output in __dmesg__ and see this line:\n",
      "\n",
      "_[406507.218041] sd 7:0:0:2: [sdd] 31504384 512-byte logical blocks: (16.1 GB/15.0 GiB)_\n",
      "\n",
      "\n",
      "This gives enough information to run the following command:\n",
      "\n",
      "__sudo mount /dev/sdd1 /mnt__\n",
      "\n",
      "\n",
      "Now typing _mount_ shows that the card has been mounted successfully!\n",
      "\n",
      "_/dev/sdd1 on /mnt type vfat (rw)_\n",
      "\n",
      "But how do we actually \"flash\" the card? Luckily, Dmitry has us covered."
     ]
    },
    {
     "cell_type": "raw",
     "metadata": {},
     "source": [
      "(From Hack A Day comments) Dmitry Grinberg says:\n",
      "September 20, 2013 at 1:45 am\n",
      "Ah, I forgot to explain the update process, so unless you read the doc you\u2019ll be lost. Place my files on card. wait 1 min. remove card. reinsert card. wait 6 min (very important). remove card. reinsert card. wait till \u201cwifisd\u201d network shows up. connect to it\n",
      "\n",
      "\u201cwifisd1.6\u2033 means card is updating \u2013 you cannot connect to it"
     ]
    },
    {
     "cell_type": "markdown",
     "metadata": {},
     "source": [
      "For me, this meant running the following command from the directory containing _image3_, _initramfs3.gz_, _mtd_jffs2.bin_ and _program.bin_\n",
      "\n",
      "__for i in image3 program.bin initramfs3.gz mtd_jffs2.bin; do sudo cp $i /mnt; done__\n",
      "\n",
      "This is wrapped up in the __copy_to_mnt.sh__ script.\n",
      "\n",
      "After the copy was finished,  I followed Dmitry's instructions, though I ended up waiting ~15mins for the flash to be complete.\n"
     ]
    },
    {
     "cell_type": "markdown",
     "metadata": {},
     "source": [
      "Addendum: Cross-Compiling a better Busybox\n",
      "------------------------------------------\n",
      "\n",
      "Based on [this link](http://roshan.info/blog/2013/09/01/compiling-your-own-binaries-for-the-transcend-wifi-sd-card/), I wanted to compile a custom Busybox for two reasons: to get more familiar with cross-compilation for this device, and to get exactly what I wanted (busybox from Dmitry didn't have vi or netcat!).\n",
      "\n",
      "Fist, we need to install crosstool-ng. Following [these instructions](http://smdaudhilbe.wordpress.com/2013/04/26/steps-to-create-cross-compiling-toolchain-using-crosstool-ng/) and [these instructions, too](http://getglitched.com/?page_id=253) got everything going set up very nicely, by doing the following steps.\n",
      "\n",
      "__sudo apt-get install -y autoconf automake libtool libexpat1-dev libncurses5-dev bison flex patch curl cvs texinfo build-essential subversion gawk python-dev gperf__\n",
      "\n",
      "\n",
      "\n",
      "The next step was to download the busybox source by running\n",
      "\n",
      "__wget http://www.busybox.net/downloads/busybox-1.22.0.tar.bz2__\n",
      "\n",
      "Once this was done, compilation and configuration was the next stage. \n",
      "\n",
      "I have also scripts to my github repository to faciliatate downloading, configuring, and building busybox from source."
     ]
    },
    {
     "cell_type": "markdown",
     "metadata": {},
     "source": [
      "More links gathered from the webbernet\n",
      "--------------------------------------\n",
      "\n",
      "ssh root@192.168.11.254\n",
      "\n",
      "http://forums.parallax.com/showthread.php/149623-WiFi-SD-Card-hacked-useful-for-the-prop\n",
      "\n",
      "https://cnlohr.net/pubsvn/electrical/SDComputer/readme.txt\n",
      "\n",
      "https://www.youtube.com/watch?v=-Z9TrZQw16s"
     ]
    }
   ],
   "metadata": {}
  }
 ]
}